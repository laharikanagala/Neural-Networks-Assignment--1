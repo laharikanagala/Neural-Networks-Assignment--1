{
 "cells": [
  {
   "cell_type": "code",
   "execution_count": 5,
   "id": "ec0bffe9-9e3c-4427-ba85-79f9199fa643",
   "metadata": {},
   "outputs": [
    {
     "name": "stdin",
     "output_type": "stream",
     "text": [
      "Enter the name of the language : python\n"
     ]
    },
    {
     "name": "stdout",
     "output_type": "stream",
     "text": [
      "<class 'list'>\n",
      "['p', 'y', 't', 'h', 'o', 'n']\n",
      "['p', 'y', 't', 'n']\n",
      "ntyp\n"
     ]
    }
   ],
   "source": [
    " #Write a python program for the following:\n",
    "# Input the string “Python” as a list of characters from console, delete at least 2 characters, reverse the resultant string and print it.\n",
    "s = input(\"Enter the name of the language :\")\n",
    "\n",
    "x =list(s.strip())\n",
    "print(type(x))\n",
    "print(x)\n",
    "x.pop(-2)\n",
    "x.pop(-2)\n",
    "\n",
    "print(x)\n",
    "x.reverse()\n",
    "s = ''.join(x)\n",
    "print(s)"
   ]
  },
  {
   "cell_type": "code",
   "execution_count": 2,
   "id": "813b61f3-7686-44c3-9412-75dd2c0ea91b",
   "metadata": {},
   "outputs": [
    {
     "name": "stdin",
     "output_type": "stream",
     "text": [
      "Enter the sentence : I love playing with python\n"
     ]
    },
    {
     "name": "stdout",
     "output_type": "stream",
     "text": [
      "Modified string : \n",
      "I love playing with pythons\n"
     ]
    }
   ],
   "source": [
    "#Write a program that accepts a sentence and replace each occurrence of ‘python’ with ‘pythons’.\n",
    "# declaring a string variable\n",
    "str = input(\"Enter the sentence :\")\n",
    " \n",
    "# replacing string python with pythons\n",
    "str = str.replace('python', 'pythons')\n",
    "print(\"Modified string : \")\n",
    "print(str)"
   ]
  },
  {
   "cell_type": "code",
   "execution_count": 3,
   "id": "cdda386a-4333-49d9-a7b8-8d101091d793",
   "metadata": {},
   "outputs": [
    {
     "name": "stdin",
     "output_type": "stream",
     "text": [
      "Enter the grade of the person:  55\n"
     ]
    },
    {
     "name": "stdout",
     "output_type": "stream",
     "text": [
      "Fail grade\n"
     ]
    }
   ],
   "source": [
    "#Use the if statement conditions to write a program to print the letter grade based on an input class score. Use the grading scheme we are using in this class.\n",
    "\n",
    "grade = int(input(\"Enter the grade of the person: \"))\n",
    "if grade >= 90:\n",
    "    print(\"A grade\")\n",
    "\n",
    "elif grade >=80:\n",
    "    print(\"B grade\")\n",
    "\n",
    "elif grade >=70:\n",
    "    print(\"C grade\")\n",
    "\n",
    "elif grade >= 60:\n",
    "    print(\"D grade\")\n",
    "\n",
    "else:\n",
    "    print(\"Fail grade\")\n",
    "    "
   ]
  },
  {
   "cell_type": "code",
   "execution_count": 4,
   "id": "73441a4a-866c-4f59-9371-30d93ec84053",
   "metadata": {},
   "outputs": [
    {
     "name": "stdin",
     "output_type": "stream",
     "text": [
      "Enter first number:  55\n",
      "Enter second number:  6\n"
     ]
    },
    {
     "name": "stdout",
     "output_type": "stream",
     "text": [
      "Division:  9.166666666666666\n",
      "Floor Division:  9\n",
      "Modulus:  1\n",
      "Exponentiation:  27680640625\n"
     ]
    }
   ],
   "source": [
    "#Take two numbers from user and perform at least 4 arithmetic operations on them.\n",
    "\n",
    "num1 = int(input(\"Enter first number: \")) # user input1 and typecasting the the entered string into integer\n",
    "num2 = int(input(\"Enter second number: \")) # user input2\n",
    "\n",
    "#Printing the result for 4 arithmetic operations\n",
    "print(\"Division: \",num1 / num2) # simple Division\n",
    "print(\"Floor Division: \",num1 // num2) # floor Division\n",
    "print(\"Modulus: \", num1 % num2) # Modulus\n",
    "print(\"Exponentiation: \",num1 ** num2) # Exponentiation"
   ]
  },
  {
   "cell_type": "code",
   "execution_count": null,
   "id": "1a7a6300-0c4c-42a6-ac23-e1c028648cf6",
   "metadata": {},
   "outputs": [],
   "source": []
  }
 ],
 "metadata": {
  "kernelspec": {
   "display_name": "Python 3 (ipykernel)",
   "language": "python",
   "name": "python3"
  },
  "language_info": {
   "codemirror_mode": {
    "name": "ipython",
    "version": 3
   },
   "file_extension": ".py",
   "mimetype": "text/x-python",
   "name": "python",
   "nbconvert_exporter": "python",
   "pygments_lexer": "ipython3",
   "version": "3.11.5"
  }
 },
 "nbformat": 4,
 "nbformat_minor": 5
}
